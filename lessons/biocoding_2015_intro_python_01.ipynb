{
 "metadata": {
  "name": "",
  "signature": "sha256:ce1453547d490812a492bbe7fbd5da19898ae943ff8b320a23e7bda3a1db926c"
 },
 "nbformat": 3,
 "nbformat_minor": 0,
 "worksheets": [
  {
   "cells": [
    {
     "cell_type": "markdown",
     "metadata": {},
     "source": [
      "#Lesson 1: Hello World"
     ]
    },
    {
     "cell_type": "markdown",
     "metadata": {},
     "source": [
      "In this lesson, we will start with the very basics of python using this iPython notebook. We can use Python in a variety of methods (at the terminal, using an [IDE](https://en.wikipedia.org/wiki/Integrated_development_environment) etc. However the notebook is a great way to play with python with the support of lots of helpful notes. Let's start of getting to know Python with using the classic program 'Hello world'"
     ]
    },
    {
     "cell_type": "code",
     "collapsed": false,
     "input": [
      "print \"Hello world\""
     ],
     "language": "python",
     "metadata": {},
     "outputs": []
    },
    {
     "cell_type": "markdown",
     "metadata": {},
     "source": [
      "To get the output of the above program, select the cell and then click the play button to run the command using Python"
     ]
    },
    {
     "cell_type": "markdown",
     "metadata": {},
     "source": [
      "#Exercise 1: Playing around with printing\n",
      "As you may notice in the code block above a Python keyword 'print' is highlighted in a color (green). We call 'print' a key word because this word has special meaning to Python. Python is considered one of the best languages for new coders to learn because compared to other programming languages it is much more intuitive. In the [C language](https://en.wikipedia.org/wiki/C_%28programming_language%29) for example, printing 'Hello World' would look something like this: \n",
      "\n",
      "\\#include< stdio.h >\n",
      "\n",
      "main()\n",
      "{\n",
      "    printf(\"Hello World\");\n",
      "\n",
      "\n",
      "}\n",
      "\n",
      "Although learning Python (and learning it well) will take effort, you can see why its considered simpler for a new learner. However Python *does* have rules you will have to follow. In the following execises, let's see what some of these rules are. "
     ]
    },
    {
     "cell_type": "markdown",
     "metadata": {},
     "source": [
      "### In the cell below, write the same program we used above to get the 'Hello World' statement\n",
      "**Do not** copy and paste! Once you have written the line of code, don't forget to hit 'run'"
     ]
    },
    {
     "cell_type": "code",
     "collapsed": false,
     "input": [
      "print \"hello world\""
     ],
     "language": "python",
     "metadata": {},
     "outputs": []
    },
    {
     "cell_type": "markdown",
     "metadata": {},
     "source": [
      "Did you get 'Hello World' - is it capitolized correctly, is it exactly like the output of the example program?"
     ]
    },
    {
     "cell_type": "markdown",
     "metadata": {},
     "source": [
      "###Below are a few questions and tasks using the 'Hello World' example. Try them out!\n",
      "* Does capitalization matter in Python?\n",
      "* Do single quotes ' or double quotes \" matter in Python?\n",
      "* Does spacing matter in Python\n",
      "Play around with answering these questions (hopefully until you break something)\n",
      "\n",
      "**Tip**: You can reuse any of the empty code blocks. Just rewite any code and hit play again to rerun the cell. "
     ]
    },
    {
     "cell_type": "markdown",
     "metadata": {},
     "source": [
      "### Capitalization"
     ]
    },
    {
     "cell_type": "code",
     "collapsed": false,
     "input": [],
     "language": "python",
     "metadata": {},
     "outputs": []
    },
    {
     "cell_type": "markdown",
     "metadata": {},
     "source": [
      "### Quotes"
     ]
    },
    {
     "cell_type": "code",
     "collapsed": false,
     "input": [],
     "language": "python",
     "metadata": {},
     "outputs": []
    },
    {
     "cell_type": "markdown",
     "metadata": {},
     "source": [
      "### Spacing"
     ]
    },
    {
     "cell_type": "code",
     "collapsed": false,
     "input": [],
     "language": "python",
     "metadata": {},
     "outputs": []
    }
   ],
   "metadata": {}
  }
 ]
}