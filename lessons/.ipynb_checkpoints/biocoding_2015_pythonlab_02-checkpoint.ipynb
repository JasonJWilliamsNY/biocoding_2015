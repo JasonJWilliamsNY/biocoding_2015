{
 "metadata": {
  "name": "",
  "signature": "sha256:e605fe55017bdf71bf12a23e92f4d6563d9dac236a842c44e75dda448a547817"
 },
 "nbformat": 3,
 "nbformat_minor": 0,
 "worksheets": [
  {
   "cells": [
    {
     "cell_type": "markdown",
     "metadata": {},
     "source": [
      "#Working with strings (printing, variables, and lists)\n",
      "\n",
      "Let's review strings - one of the most basic concepts (variable types) in Python\n",
      "\n",
      "Which of the following do you think is a string?\n",
      "\n",
      "a = 'string'<br>\n",
      "b = 'two'<br>\n",
      "c = 3<br>\n",
      "d = '3'<br>\n",
      "\n",
      "We first we can let Python tell us. Its assumed here that you understand the concept of a [variable](https://en.wikipedia.org/wiki/Variable_%28computer_science%29). In this case - as in most scripting languages - the variable is on the left of the '=' sign, and the value of the variable is on the right. \n",
      "\n",
      "First, let's let the Python notebook create these variables; run the cell below:"
     ]
    },
    {
     "cell_type": "code",
     "collapsed": false,
     "input": [
      "a = 'string'\n",
      "b = 'two'\n",
      "c = 3\n",
      "d = '3'"
     ],
     "language": "python",
     "metadata": {},
     "outputs": []
    },
    {
     "cell_type": "markdown",
     "metadata": {},
     "source": [
      "Python has a built in function called ``type`` that will disply the type of information contained in a variable. Since we want to ask Python which of the variables is a string, we can simply run the function ``type()`` on the variable. Try it, completing the cell below:"
     ]
    },
    {
     "cell_type": "code",
     "collapsed": false,
     "input": [
      "print type(a)\n"
     ],
     "language": "python",
     "metadata": {},
     "outputs": []
    },
    {
     "cell_type": "markdown",
     "metadata": {},
     "source": [
      "Why does 'd' have the value it does? \n",
      "Write Python code in the cell below to do the following:\n",
      "\n",
      "1) Create the variable 'd' and assign it the value of '3' as a string<br>\n",
      "2) Print the type of variable 'd' and confirm it is a string<br>\n",
      "3) Create the variable 'c' and assign it the value '3' as int<br>\n",
      "4) Print the type of variable 'd' and confirm it is an int<br>"
     ]
    },
    {
     "cell_type": "code",
     "collapsed": false,
     "input": [
      "d = \n"
     ],
     "language": "python",
     "metadata": {},
     "outputs": []
    },
    {
     "cell_type": "markdown",
     "metadata": {},
     "source": [
      "##What have we learned?\n",
      "\n",
      "Think about the answers and discuss with your partner. Write out some Python in the cell below that demonstrates the answers when you run the cell. \n",
      "\n",
      "* Strings can be ... characters long\n",
      "* All strings must be...\n",
      "* An integer (e.g. '3') can be a string if..."
     ]
    },
    {
     "cell_type": "code",
     "collapsed": false,
     "input": [
      "#Strings can be ...\n",
      "\n",
      "#All strings must be...\n",
      "\n",
      "#An integer can be a string if..."
     ],
     "language": "python",
     "metadata": {},
     "outputs": []
    },
    {
     "cell_type": "markdown",
     "metadata": {},
     "source": [
      "****"
     ]
    },
    {
     "cell_type": "markdown",
     "metadata": {},
     "source": [
      "###More on Variables\n",
      "Before we go further, let's consider some variable names. Do they have any rules?\n",
      "\n",
      "Consider the following experimental dataset:\n",
      "\n",
      "|Group|Number of Mice|Average Mass(g)|Group Id|\n",
      "|-----|--------------|---------------|--------|\n",
      "|alpha|3|17.0|CGJ28371|\n",
      "|beta|5|16.4|SJW99399|\n",
      "|gamma|6|17.8|PWS29382|\n",
      "\n",
      "Discuss with your partner, what variable names would you use describe\n",
      "\n",
      "* Average weight of a mouse group?\n",
      "* Number of mice in a group?\n",
      "\n",
      "Create the variables below, and use a ``print`` statement to display the variable as well as the variable ``type``\n"
     ]
    },
    {
     "cell_type": "code",
     "collapsed": false,
     "input": [],
     "language": "python",
     "metadata": {},
     "outputs": []
    },
    {
     "cell_type": "markdown",
     "metadata": {},
     "source": [
      "Did your variable names work on the first try? On the second? \n",
      "Hopefully you got some names to work. Also, hopefully, your variable names were easy-to-read and as unambigous as possible. For example, would the following names work?\n",
      "\n",
      "* alpha = 3 (3 what?)\n",
      "* gamma_mass = 6 (maybe ok, but didn't we mean average mass?)\n",
      "* numberofmiceinbetagroup = 5 (very explicit, but hard to read)\n",
      "\n",
      "In the end, you will have to decide on names that balance explicitness, with ease of use. Some simple rules and conventions (based on a much much long [Python style guide](https://www.python.org/dev/peps/pep-0008/#naming-conventions):\n",
      "\n",
      "* Avoid uninformative single character variables like 'a','b','c'\n",
      "* Separate words either 'using_underscores' or 'ByUsingCaps'\n",
      "* Avoid keywords ('for','while','True','print') - these words have special meanings in Python; Python will let you know if you are doing something foolish here!\n",
      "\n",
      "\n",
      "\n",
      "\n",
      "\n"
     ]
    },
    {
     "cell_type": "markdown",
     "metadata": {},
     "source": [
      "###Slicing, dicing, and Examining strings\n",
      "\n",
      "Much of the data bioinformaticians work with come in the form of strings; as you encountered, a DNA sequence 'ATGCGCCGTA' is sequence as far as Python is concerned. Let's look at a few Python functions for working with strings. First create three new variables that represent the 'Group IDs' for each of the mouse groups in the table above"
     ]
    },
    {
     "cell_type": "code",
     "collapsed": false,
     "input": [
      "alpha_id = 'CGJ28371'\n",
      "beta_id = ''\n",
      "gamma_id = ''"
     ],
     "language": "python",
     "metadata": {},
     "outputs": []
    },
    {
     "cell_type": "markdown",
     "metadata": {},
     "source": [
      "Next, lets look the ``alpha_id``; what what is the length of the id"
     ]
    },
    {
     "cell_type": "code",
     "collapsed": false,
     "input": [
      "len(alpha_id)"
     ],
     "language": "python",
     "metadata": {},
     "outputs": []
    },
    {
     "cell_type": "markdown",
     "metadata": {},
     "source": [
      "Like all the IDs given in the table, ``len(alpha_id)`` should have a value of 8. We can examine each character in the string represented by ``alpha_id`` to do this we use the ``print`` function except this time we use this special notation next to the variable. See what happens in the next cell. "
     ]
    },
    {
     "cell_type": "code",
     "collapsed": false,
     "input": [
      "print alpha_id[0]"
     ],
     "language": "python",
     "metadata": {},
     "outputs": []
    },
    {
     "cell_type": "markdown",
     "metadata": {},
     "source": [
      "We can translate the statement above as the following english sentence\n",
      "'print the 0th element of the string 'CGJ28371'<br>\n",
      "\n",
      "What is the 0th element?<br>\n",
      "\n",
      "In general, most computing languages will count items starting from 0. Therefore, breaking appart the string 'CGJ28371' here is how we would count it. \n",
      "\n",
      "|Index|0|1|2|3|4|5|6|7|\n",
      "|-----|-|-|-|-|-|-|-|-|\n",
      "|Value|C|G|J|2|8|3|7|1|\n",
      "\n",
      "**Challenge** \n",
      "In the cell below, print the alpha_id character by character in reverse\n",
      "\n"
     ]
    },
    {
     "cell_type": "code",
     "collapsed": false,
     "input": [
      "\n"
     ],
     "language": "python",
     "metadata": {},
     "outputs": []
    },
    {
     "cell_type": "markdown",
     "metadata": {},
     "source": [
      "Sometimes we will want to be more specific about which characters we would like to pull from a string. We can use the brackets to select specific characters from a string according to this rule\n",
      "\n",
      "### string[begin:end:step]\n",
      "\n",
      "Translation:\n",
      "* begin - which index to start with\n",
      "* end - which element to stop with \n",
      "* step - how many elements to select at one time (one-by-one would be 1, every other element would be 2)\n",
      "\n",
      "Run the cell below to see some examples:\n"
     ]
    },
    {
     "cell_type": "code",
     "collapsed": false,
     "input": [
      "my_string = 'ABCDEFGHIJKLMNOPQRSTUVWXYZ0123456789'\n",
      "print my_string[0]\n",
      "print my_string[1]\n",
      "print my_string[2]\n",
      "print my_string[0:9]\n",
      "print my_string[0:9:2]\n",
      "print my_string[0::2]\n"
     ],
     "language": "python",
     "metadata": {},
     "outputs": []
    },
    {
     "cell_type": "markdown",
     "metadata": {},
     "source": [
      "As you have noticed, as long as you stick to the convention ``string[begin:end:step]`` you can even omit some of the options:"
     ]
    },
    {
     "cell_type": "code",
     "collapsed": false,
     "input": [
      "print my_string[::]"
     ],
     "language": "python",
     "metadata": {},
     "outputs": []
    },
    {
     "cell_type": "markdown",
     "metadata": {},
     "source": [
      "**Challenge**\n",
      "\n",
      "In the group ID data, the first three characters are the experienters initials, and the numbers are a unique ID number. Use the cell below to do and demonstrate the following (as indicated by comments)\n",
      "\n"
     ]
    },
    {
     "cell_type": "code",
     "collapsed": false,
     "input": [
      "#Create new variables that contain the initials of the experimenter\n",
      "#for each mouse group; print the value of these new variables\n",
      "\n",
      "#Create new variables that contain the ID of the experimenter\n",
      "#for each mouse group; print the value of these new variables\n",
      "\n"
     ],
     "language": "python",
     "metadata": {},
     "outputs": []
    },
    {
     "cell_type": "markdown",
     "metadata": {},
     "source": [
      "### Making more complex print statements"
     ]
    },
    {
     "cell_type": "markdown",
     "metadata": {},
     "source": [
      "Another useful property of strings in Python is the ability to concatonate strings - taking two or more strings and placing them together. In Python this is as simple as using the ``+`` key. For example:\n"
     ]
    },
    {
     "cell_type": "code",
     "collapsed": false,
     "input": [
      "print 'ABC' + '123'"
     ],
     "language": "python",
     "metadata": {},
     "outputs": []
    },
    {
     "cell_type": "markdown",
     "metadata": {},
     "source": [
      "This is a property of strings, you cannot concatonate a string and int:"
     ]
    },
    {
     "cell_type": "code",
     "collapsed": false,
     "input": [
      "print 'ABC' + 123"
     ],
     "language": "python",
     "metadata": {},
     "outputs": []
    },
    {
     "cell_type": "markdown",
     "metadata": {},
     "source": [
      "It's not uncommon that we will create a biological dataset in a file, or in a table using the print function. Let's talk about perhaps the most important biological file format; the Fasta file"
     ]
    },
    {
     "cell_type": "markdown",
     "metadata": {},
     "source": [
      "### Fasta Files\n",
      "The [Fasta File]() is one of the oldest and most widely used file formats in biology/bioinformatics. Fasta files convey a biological sequence (DNA, RNA, or Protein) as well as some [metadata](); usually at the very least, the name of the sequence. Every fasta file shares two properties:\n",
      "1. Every fasta file will be two lines\n",
      "2. The first line of the fasta file begins with `>`; the remainder of the line contains any information about the file such as the name of the sequence. \n",
      "3. The next line of the file will be the sequence; DNA, RNA, or Protein\n",
      "\n",
      "Here are two examples of fasta files containing DNA sequence is:\n",
      "\n",
      "```\n",
      ">sequence 001\n",
      "ATTCGAGGATCGATTTCGATCGATGCTTAGCTTTAGCTTTTTTAGATCTCCCA\n",
      "\n",
      ">sequence 002\n",
      "AAGCTGACGGGGAGCTAGTCTTAGTCGTACGTTCGAT\n",
      "```"
     ]
    },
    {
     "cell_type": "markdown",
     "metadata": {},
     "source": [
      "#### Creating a Fasta file printer"
     ]
    },
    {
     "cell_type": "markdown",
     "metadata": {},
     "source": [
      "**Challenge**\n",
      "\n",
      "Let's create a simple sequence in Python that will do the following:\n",
      "1. Have a variable which will hold the name of the sequence\n",
      "2. Have a variable which will hold the sequence string\n",
      "3. Print the name and sequence in proper fasta format\n",
      "\n",
      "Discuss what you think you will need to do with your partner and use the cell below to complete the challenge. "
     ]
    },
    {
     "cell_type": "code",
     "collapsed": false,
     "input": [
      "# Tip: You should be able to do this in 3 lines of code\n",
      "# To make the printed information move to a new line, use the \n",
      "# newline character '\\n' - used as a string with quotes\n",
      "# Python will not print '\\n' to the screen, but interprit \n",
      "# that you mean to end one line at that location and begin a \n",
      "# newline \n",
      "\n"
     ],
     "language": "python",
     "metadata": {},
     "outputs": []
    },
    {
     "cell_type": "markdown",
     "metadata": {},
     "source": [
      "### Counting and substitutions"
     ]
    },
    {
     "cell_type": "markdown",
     "metadata": {},
     "source": [
      "Another important string tool is the ability to determine certian properties of a string. As you have already seen, the ``len()`` function allows you to count the number of characters in a string. "
     ]
    },
    {
     "cell_type": "code",
     "collapsed": false,
     "input": [
      "my_string = 'ABCDEFGHIJKLMNOPQRSTUVWXYZ'\n",
      "print len(my_string)"
     ],
     "language": "python",
     "metadata": {},
     "outputs": []
    },
    {
     "cell_type": "markdown",
     "metadata": {},
     "source": [
      "You also can count specific characters within a string using the ``count()`` function:"
     ]
    },
    {
     "cell_type": "code",
     "collapsed": false,
     "input": [
      "my_string = 'ABCDEFGHIJKLMNOPQRSTUVWXYZ'\n",
      "print my_string.count('A')"
     ],
     "language": "python",
     "metadata": {},
     "outputs": []
    },
    {
     "cell_type": "markdown",
     "metadata": {},
     "source": [
      "Here we are using a function in new way called Python [dot notation](). Python knows that all the types of functions it can do with a string. We can see the helpfile (which will tell us all thing things Python can do with a string) using the ``help()`` function:"
     ]
    },
    {
     "cell_type": "code",
     "collapsed": false,
     "input": [
      "help(str)"
     ],
     "language": "python",
     "metadata": {},
     "outputs": [
      {
       "output_type": "stream",
       "stream": "stdout",
       "text": [
        "Help on class str in module __builtin__:\n",
        "\n",
        "class str(basestring)\n",
        " |  str(object='') -> string\n",
        " |  \n",
        " |  Return a nice string representation of the object.\n",
        " |  If the argument is a string, the return value is the same object.\n",
        " |  \n",
        " |  Method resolution order:\n",
        " |      str\n",
        " |      basestring\n",
        " |      object\n",
        " |  \n",
        " |  Methods defined here:\n",
        " |  \n",
        " |  __add__(...)\n",
        " |      x.__add__(y) <==> x+y\n",
        " |  \n",
        " |  __contains__(...)\n",
        " |      x.__contains__(y) <==> y in x\n",
        " |  \n",
        " |  __eq__(...)\n",
        " |      x.__eq__(y) <==> x==y\n",
        " |  \n",
        " |  __format__(...)\n",
        " |      S.__format__(format_spec) -> string\n",
        " |      \n",
        " |      Return a formatted version of S as described by format_spec.\n",
        " |  \n",
        " |  __ge__(...)\n",
        " |      x.__ge__(y) <==> x>=y\n",
        " |  \n",
        " |  __getattribute__(...)\n",
        " |      x.__getattribute__('name') <==> x.name\n",
        " |  \n",
        " |  __getitem__(...)\n",
        " |      x.__getitem__(y) <==> x[y]\n",
        " |  \n",
        " |  __getnewargs__(...)\n",
        " |  \n",
        " |  __getslice__(...)\n",
        " |      x.__getslice__(i, j) <==> x[i:j]\n",
        " |      \n",
        " |      Use of negative indices is not supported.\n",
        " |  \n",
        " |  __gt__(...)\n",
        " |      x.__gt__(y) <==> x>y\n",
        " |  \n",
        " |  __hash__(...)\n",
        " |      x.__hash__() <==> hash(x)\n",
        " |  \n",
        " |  __le__(...)\n",
        " |      x.__le__(y) <==> x<=y\n",
        " |  \n",
        " |  __len__(...)\n",
        " |      x.__len__() <==> len(x)\n",
        " |  \n",
        " |  __lt__(...)\n",
        " |      x.__lt__(y) <==> x<y\n",
        " |  \n",
        " |  __mod__(...)\n",
        " |      x.__mod__(y) <==> x%y\n",
        " |  \n",
        " |  __mul__(...)\n",
        " |      x.__mul__(n) <==> x*n\n",
        " |  \n",
        " |  __ne__(...)\n",
        " |      x.__ne__(y) <==> x!=y\n",
        " |  \n",
        " |  __repr__(...)\n",
        " |      x.__repr__() <==> repr(x)\n",
        " |  \n",
        " |  __rmod__(...)\n",
        " |      x.__rmod__(y) <==> y%x\n",
        " |  \n",
        " |  __rmul__(...)\n",
        " |      x.__rmul__(n) <==> n*x\n",
        " |  \n",
        " |  __sizeof__(...)\n",
        " |      S.__sizeof__() -> size of S in memory, in bytes\n",
        " |  \n",
        " |  __str__(...)\n",
        " |      x.__str__() <==> str(x)\n",
        " |  \n",
        " |  capitalize(...)\n",
        " |      S.capitalize() -> string\n",
        " |      \n",
        " |      Return a copy of the string S with only its first character\n",
        " |      capitalized.\n",
        " |  \n",
        " |  center(...)\n",
        " |      S.center(width[, fillchar]) -> string\n",
        " |      \n",
        " |      Return S centered in a string of length width. Padding is\n",
        " |      done using the specified fill character (default is a space)\n",
        " |  \n",
        " |  count(...)\n",
        " |      S.count(sub[, start[, end]]) -> int\n",
        " |      \n",
        " |      Return the number of non-overlapping occurrences of substring sub in\n",
        " |      string S[start:end].  Optional arguments start and end are interpreted\n",
        " |      as in slice notation.\n",
        " |  \n",
        " |  decode(...)\n",
        " |      S.decode([encoding[,errors]]) -> object\n",
        " |      \n",
        " |      Decodes S using the codec registered for encoding. encoding defaults\n",
        " |      to the default encoding. errors may be given to set a different error\n",
        " |      handling scheme. Default is 'strict' meaning that encoding errors raise\n",
        " |      a UnicodeDecodeError. Other possible values are 'ignore' and 'replace'\n",
        " |      as well as any other name registered with codecs.register_error that is\n",
        " |      able to handle UnicodeDecodeErrors.\n",
        " |  \n",
        " |  encode(...)\n",
        " |      S.encode([encoding[,errors]]) -> object\n",
        " |      \n",
        " |      Encodes S using the codec registered for encoding. encoding defaults\n",
        " |      to the default encoding. errors may be given to set a different error\n",
        " |      handling scheme. Default is 'strict' meaning that encoding errors raise\n",
        " |      a UnicodeEncodeError. Other possible values are 'ignore', 'replace' and\n",
        " |      'xmlcharrefreplace' as well as any other name registered with\n",
        " |      codecs.register_error that is able to handle UnicodeEncodeErrors.\n",
        " |  \n",
        " |  endswith(...)\n",
        " |      S.endswith(suffix[, start[, end]]) -> bool\n",
        " |      \n",
        " |      Return True if S ends with the specified suffix, False otherwise.\n",
        " |      With optional start, test S beginning at that position.\n",
        " |      With optional end, stop comparing S at that position.\n",
        " |      suffix can also be a tuple of strings to try.\n",
        " |  \n",
        " |  expandtabs(...)\n",
        " |      S.expandtabs([tabsize]) -> string\n",
        " |      \n",
        " |      Return a copy of S where all tab characters are expanded using spaces.\n",
        " |      If tabsize is not given, a tab size of 8 characters is assumed.\n",
        " |  \n",
        " |  find(...)\n",
        " |      S.find(sub [,start [,end]]) -> int\n",
        " |      \n",
        " |      Return the lowest index in S where substring sub is found,\n",
        " |      such that sub is contained within S[start:end].  Optional\n",
        " |      arguments start and end are interpreted as in slice notation.\n",
        " |      \n",
        " |      Return -1 on failure.\n",
        " |  \n",
        " |  format(...)\n",
        " |      S.format(*args, **kwargs) -> string\n",
        " |      \n",
        " |      Return a formatted version of S, using substitutions from args and kwargs.\n",
        " |      The substitutions are identified by braces ('{' and '}').\n",
        " |  \n",
        " |  index(...)\n",
        " |      S.index(sub [,start [,end]]) -> int\n",
        " |      \n",
        " |      Like S.find() but raise ValueError when the substring is not found.\n",
        " |  \n",
        " |  isalnum(...)\n",
        " |      S.isalnum() -> bool\n",
        " |      \n",
        " |      Return True if all characters in S are alphanumeric\n",
        " |      and there is at least one character in S, False otherwise.\n",
        " |  \n",
        " |  isalpha(...)\n",
        " |      S.isalpha() -> bool\n",
        " |      \n",
        " |      Return True if all characters in S are alphabetic\n",
        " |      and there is at least one character in S, False otherwise.\n",
        " |  \n",
        " |  isdigit(...)\n",
        " |      S.isdigit() -> bool\n",
        " |      \n",
        " |      Return True if all characters in S are digits\n",
        " |      and there is at least one character in S, False otherwise.\n",
        " |  \n",
        " |  islower(...)\n",
        " |      S.islower() -> bool\n",
        " |      \n",
        " |      Return True if all cased characters in S are lowercase and there is\n",
        " |      at least one cased character in S, False otherwise.\n",
        " |  \n",
        " |  isspace(...)\n",
        " |      S.isspace() -> bool\n",
        " |      \n",
        " |      Return True if all characters in S are whitespace\n",
        " |      and there is at least one character in S, False otherwise.\n",
        " |  \n",
        " |  istitle(...)\n",
        " |      S.istitle() -> bool\n",
        " |      \n",
        " |      Return True if S is a titlecased string and there is at least one\n",
        " |      character in S, i.e. uppercase characters may only follow uncased\n",
        " |      characters and lowercase characters only cased ones. Return False\n",
        " |      otherwise.\n",
        " |  \n",
        " |  isupper(...)\n",
        " |      S.isupper() -> bool\n",
        " |      \n",
        " |      Return True if all cased characters in S are uppercase and there is\n",
        " |      at least one cased character in S, False otherwise.\n",
        " |  \n",
        " |  join(...)\n",
        " |      S.join(iterable) -> string\n",
        " |      \n",
        " |      Return a string which is the concatenation of the strings in the\n",
        " |      iterable.  The separator between elements is S.\n",
        " |  \n",
        " |  ljust(...)\n",
        " |      S.ljust(width[, fillchar]) -> string\n",
        " |      \n",
        " |      Return S left-justified in a string of length width. Padding is\n",
        " |      done using the specified fill character (default is a space).\n",
        " |  \n",
        " |  lower(...)\n",
        " |      S.lower() -> string\n",
        " |      \n",
        " |      Return a copy of the string S converted to lowercase.\n",
        " |  \n",
        " |  lstrip(...)\n",
        " |      S.lstrip([chars]) -> string or unicode\n",
        " |      \n",
        " |      Return a copy of the string S with leading whitespace removed.\n",
        " |      If chars is given and not None, remove characters in chars instead.\n",
        " |      If chars is unicode, S will be converted to unicode before stripping\n",
        " |  \n",
        " |  partition(...)\n",
        " |      S.partition(sep) -> (head, sep, tail)\n",
        " |      \n",
        " |      Search for the separator sep in S, and return the part before it,\n",
        " |      the separator itself, and the part after it.  If the separator is not\n",
        " |      found, return S and two empty strings.\n",
        " |  \n",
        " |  replace(...)\n",
        " |      S.replace(old, new[, count]) -> string\n",
        " |      \n",
        " |      Return a copy of string S with all occurrences of substring\n",
        " |      old replaced by new.  If the optional argument count is\n",
        " |      given, only the first count occurrences are replaced.\n",
        " |  \n",
        " |  rfind(...)\n",
        " |      S.rfind(sub [,start [,end]]) -> int\n",
        " |      \n",
        " |      Return the highest index in S where substring sub is found,\n",
        " |      such that sub is contained within S[start:end].  Optional\n",
        " |      arguments start and end are interpreted as in slice notation.\n",
        " |      \n",
        " |      Return -1 on failure.\n",
        " |  \n",
        " |  rindex(...)\n",
        " |      S.rindex(sub [,start [,end]]) -> int\n",
        " |      \n",
        " |      Like S.rfind() but raise ValueError when the substring is not found.\n",
        " |  \n",
        " |  rjust(...)\n",
        " |      S.rjust(width[, fillchar]) -> string\n",
        " |      \n",
        " |      Return S right-justified in a string of length width. Padding is\n",
        " |      done using the specified fill character (default is a space)\n",
        " |  \n",
        " |  rpartition(...)\n",
        " |      S.rpartition(sep) -> (head, sep, tail)\n",
        " |      \n",
        " |      Search for the separator sep in S, starting at the end of S, and return\n",
        " |      the part before it, the separator itself, and the part after it.  If the\n",
        " |      separator is not found, return two empty strings and S.\n",
        " |  \n",
        " |  rsplit(...)\n",
        " |      S.rsplit([sep [,maxsplit]]) -> list of strings\n",
        " |      \n",
        " |      Return a list of the words in the string S, using sep as the\n",
        " |      delimiter string, starting at the end of the string and working\n",
        " |      to the front.  If maxsplit is given, at most maxsplit splits are\n",
        " |      done. If sep is not specified or is None, any whitespace string\n",
        " |      is a separator.\n",
        " |  \n",
        " |  rstrip(...)\n",
        " |      S.rstrip([chars]) -> string or unicode\n",
        " |      \n",
        " |      Return a copy of the string S with trailing whitespace removed.\n",
        " |      If chars is given and not None, remove characters in chars instead.\n",
        " |      If chars is unicode, S will be converted to unicode before stripping\n",
        " |  \n",
        " |  split(...)\n",
        " |      S.split([sep [,maxsplit]]) -> list of strings\n",
        " |      \n",
        " |      Return a list of the words in the string S, using sep as the\n",
        " |      delimiter string.  If maxsplit is given, at most maxsplit\n",
        " |      splits are done. If sep is not specified or is None, any\n",
        " |      whitespace string is a separator and empty strings are removed\n",
        " |      from the result.\n",
        " |  \n",
        " |  splitlines(...)\n",
        " |      S.splitlines(keepends=False) -> list of strings\n",
        " |      \n",
        " |      Return a list of the lines in S, breaking at line boundaries.\n",
        " |      Line breaks are not included in the resulting list unless keepends\n",
        " |      is given and true.\n",
        " |  \n",
        " |  startswith(...)\n",
        " |      S.startswith(prefix[, start[, end]]) -> bool\n",
        " |      \n",
        " |      Return True if S starts with the specified prefix, False otherwise.\n",
        " |      With optional start, test S beginning at that position.\n",
        " |      With optional end, stop comparing S at that position.\n",
        " |      prefix can also be a tuple of strings to try.\n",
        " |  \n",
        " |  strip(...)\n",
        " |      S.strip([chars]) -> string or unicode\n",
        " |      \n",
        " |      Return a copy of the string S with leading and trailing\n",
        " |      whitespace removed.\n",
        " |      If chars is given and not None, remove characters in chars instead.\n",
        " |      If chars is unicode, S will be converted to unicode before stripping\n",
        " |  \n",
        " |  swapcase(...)\n",
        " |      S.swapcase() -> string\n",
        " |      \n",
        " |      Return a copy of the string S with uppercase characters\n",
        " |      converted to lowercase and vice versa.\n",
        " |  \n",
        " |  title(...)\n",
        " |      S.title() -> string\n",
        " |      \n",
        " |      Return a titlecased version of S, i.e. words start with uppercase\n",
        " |      characters, all remaining cased characters have lowercase.\n",
        " |  \n",
        " |  translate(...)\n",
        " |      S.translate(table [,deletechars]) -> string\n",
        " |      \n",
        " |      Return a copy of the string S, where all characters occurring\n",
        " |      in the optional argument deletechars are removed, and the\n",
        " |      remaining characters have been mapped through the given\n",
        " |      translation table, which must be a string of length 256 or None.\n",
        " |      If the table argument is None, no translation is applied and\n",
        " |      the operation simply removes the characters in deletechars.\n",
        " |  \n",
        " |  upper(...)\n",
        " |      S.upper() -> string\n",
        " |      \n",
        " |      Return a copy of the string S converted to uppercase.\n",
        " |  \n",
        " |  zfill(...)\n",
        " |      S.zfill(width) -> string\n",
        " |      \n",
        " |      Pad a numeric string S with zeros on the left, to fill a field\n",
        " |      of the specified width.  The string S is never truncated.\n",
        " |  \n",
        " |  ----------------------------------------------------------------------\n",
        " |  Data and other attributes defined here:\n",
        " |  \n",
        " |  __new__ = <built-in method __new__ of type object>\n",
        " |      T.__new__(S, ...) -> a new object with type S, a subtype of T\n",
        "\n"
       ]
      }
     ],
     "prompt_number": 41
    },
    {
     "cell_type": "markdown",
     "metadata": {},
     "source": [
      "This a pretty long help file! Much of it may be hard (and even unnesessary) for you to read right now. However, its good to know it exists. This combined with resources like Google and Stackoverflow will help you answer a lot of your own question - an also reassure you your instructor is not just making things up! Looking at the documentation, one of the first clear functions you might notice is the capitolization command. What do you think is happening in the following lines of code?\n"
     ]
    },
    {
     "cell_type": "code",
     "collapsed": false,
     "input": [
      "my_uppercase_string = 'ABCDEFG'\n",
      "my_lowercase_string = my_uppercase_string.lower()\n",
      "print my_lowercase_string"
     ],
     "language": "python",
     "metadata": {},
     "outputs": [
      {
       "output_type": "stream",
       "stream": "stdout",
       "text": [
        "abcdefg\n"
       ]
      }
     ],
     "prompt_number": 43
    },
    {
     "cell_type": "markdown",
     "metadata": {},
     "source": [
      "Notice how the variable was reassigned using . notation. Can you write a sequence of commands in 2 lines that will print the lowercase version of an uppercase string?"
     ]
    },
    {
     "cell_type": "code",
     "collapsed": false,
     "input": [],
     "language": "python",
     "metadata": {},
     "outputs": [],
     "prompt_number": 45
    },
    {
     "cell_type": "code",
     "collapsed": false,
     "input": [
      "DNA = 'AGATGGGCTTACTGATCGACCCAGTACGATCGTATTTTTCATCGT'\n",
      "RNA = DNA.replace('A','U')\n",
      "print RNA"
     ],
     "language": "python",
     "metadata": {},
     "outputs": []
    },
    {
     "cell_type": "code",
     "collapsed": false,
     "input": [
      "DNA = 'AGATGGGCTTACTGATCGACCCAGTACGATCGTATTTTTCATCGT'\n",
      "DNA_reverse = DNA[::-1]\n",
      "print DNA_reverse\n",
      "DNA_reverse = DNA_reverse.replace('A','T')\n",
      "print DNA_reverse\n",
      "DNA_reverse = DNA_reverse.replace('T','A')\n",
      "print DNA_reverse\n",
      "DNA_reverse = DNA_reverse.replace('G','C')\n",
      "print DNA_reverse\n",
      "DNA_reverse = DNA_reverse.replace('C','G')\n",
      "print DNA_reverse"
     ],
     "language": "python",
     "metadata": {},
     "outputs": [
      {
       "output_type": "stream",
       "stream": "stdout",
       "text": [
        "TGCTACTTTTTATGCTAGCATGACCCAGCTAGTCATTCGGGTAGA\n",
        "TGCTTCTTTTTTTGCTTGCTTGTCCCTGCTTGTCTTTCGGGTTGT\n",
        "AGCAACAAAAAAAGCAAGCAAGACCCAGCAAGACAAACGGGAAGA\n",
        "ACCAACAAAAAAACCAACCAACACCCACCAACACAAACCCCAACA\n",
        "AGGAAGAAAAAAAGGAAGGAAGAGGGAGGAAGAGAAAGGGGAAGA\n"
       ]
      }
     ],
     "prompt_number": 47
    },
    {
     "cell_type": "code",
     "collapsed": false,
     "input": [
      "from string import maketrans\n",
      "\n",
      "compliment = maketrans('ATGC','TACG')\n",
      "my_string = 'AAATTTGGGCCC'\n",
      "#print my_string.translate(compliment)\n",
      "print my_string\n",
      "print my_string.translate(compliment)\n"
     ],
     "language": "python",
     "metadata": {},
     "outputs": [
      {
       "output_type": "stream",
       "stream": "stdout",
       "text": [
        "AAATTTGGGCCC\n",
        "TTTAAACCCGGG\n"
       ]
      }
     ],
     "prompt_number": 52
    },
    {
     "cell_type": "code",
     "collapsed": false,
     "input": [],
     "language": "python",
     "metadata": {},
     "outputs": [],
     "prompt_number": 49
    },
    {
     "cell_type": "code",
     "collapsed": false,
     "input": [],
     "language": "python",
     "metadata": {},
     "outputs": [],
     "prompt_number": 49
    },
    {
     "cell_type": "code",
     "collapsed": false,
     "input": [],
     "language": "python",
     "metadata": {},
     "outputs": [],
     "prompt_number": 49
    },
    {
     "cell_type": "code",
     "collapsed": false,
     "input": [],
     "language": "python",
     "metadata": {},
     "outputs": []
    }
   ],
   "metadata": {}
  }
 ]
}