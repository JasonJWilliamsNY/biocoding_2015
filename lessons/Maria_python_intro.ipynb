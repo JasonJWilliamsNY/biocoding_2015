{
 "metadata": {
  "name": "",
  "signature": "sha256:27bdc32fd7af5183da553c6b36a33d25bf469bf0eb5464c82b0037f9c5331a58"
 },
 "nbformat": 3,
 "nbformat_minor": 0,
 "worksheets": [
  {
   "cells": [
    {
     "cell_type": "heading",
     "level": 1,
     "metadata": {},
     "source": [
      " An intro to Python for biology"
     ]
    },
    {
     "cell_type": "heading",
     "level": 3,
     "metadata": {},
     "source": [
      "Variables and printing"
     ]
    },
    {
     "cell_type": "code",
     "collapsed": false,
     "input": [
      "# this is a comment, use these to tell people what your code does"
     ],
     "language": "python",
     "metadata": {},
     "outputs": []
    },
    {
     "cell_type": "code",
     "collapsed": false,
     "input": [
      "mystring = \"Homo sapiens\" # a string, letters, words, sentences, anything in quotes\n",
      "myinteger = 4 # an integer\n",
      "myfloat = 4.0 # a float (a number with a decimal point)\n",
      "\n",
      "print \"This is a string:\", mystring, \"this is a float:\", myfloat, \"and this is an integer: \", myinteger"
     ],
     "language": "python",
     "metadata": {},
     "outputs": []
    },
    {
     "cell_type": "heading",
     "level": 3,
     "metadata": {},
     "source": [
      "Basic Math"
     ]
    },
    {
     "cell_type": "markdown",
     "metadata": {},
     "source": [
      "You can do calculations:"
     ]
    },
    {
     "cell_type": "code",
     "collapsed": false,
     "input": [
      "myfloat = 2.0\n",
      "yourfloat = 3.0\n",
      "print myfloat/yourfloat"
     ],
     "language": "python",
     "metadata": {},
     "outputs": []
    },
    {
     "cell_type": "markdown",
     "metadata": {},
     "source": [
      "But be careful, when you calculate with only integers, you can only get an integer back, so Python rounds your answer down!"
     ]
    },
    {
     "cell_type": "code",
     "collapsed": false,
     "input": [
      "myint = 2\n",
      "yourint = 3\n",
      "print myint/yourint"
     ],
     "language": "python",
     "metadata": {},
     "outputs": []
    },
    {
     "cell_type": "code",
     "collapsed": false,
     "input": [
      "myint = 2\n",
      "yourint = 3\n",
      "\n",
      "# Which of these work and why?"
     ],
     "language": "python",
     "metadata": {},
     "outputs": []
    },
    {
     "cell_type": "code",
     "collapsed": false,
     "input": [
      "print float(myint)/yourint # 1"
     ],
     "language": "python",
     "metadata": {},
     "outputs": []
    },
    {
     "cell_type": "code",
     "collapsed": false,
     "input": [
      "print myint/float(yourint) # 2"
     ],
     "language": "python",
     "metadata": {},
     "outputs": []
    },
    {
     "cell_type": "code",
     "collapsed": false,
     "input": [
      "print (myint+0.0)/yourint # 3"
     ],
     "language": "python",
     "metadata": {},
     "outputs": []
    },
    {
     "cell_type": "code",
     "collapsed": false,
     "input": [
      "print myint/yourint*1.0 # 4"
     ],
     "language": "python",
     "metadata": {},
     "outputs": []
    },
    {
     "cell_type": "code",
     "collapsed": false,
     "input": [
      "print myint*1.0/yourint # 5"
     ],
     "language": "python",
     "metadata": {},
     "outputs": []
    },
    {
     "cell_type": "code",
     "collapsed": false,
     "input": [
      "print float(myint/yourint) # 6"
     ],
     "language": "python",
     "metadata": {},
     "outputs": []
    },
    {
     "cell_type": "heading",
     "level": 3,
     "metadata": {},
     "source": [
      "Lists"
     ]
    },
    {
     "cell_type": "code",
     "collapsed": false,
     "input": [
      "mylist = [6,3,6,7,2,6,2,9,7,0]\n",
      "print mylist"
     ],
     "language": "python",
     "metadata": {},
     "outputs": []
    },
    {
     "cell_type": "markdown",
     "metadata": {},
     "source": [
      "You can get each item of the list using the brackets. Try to replace 0 with other numbers and see what you get:"
     ]
    },
    {
     "cell_type": "code",
     "collapsed": false,
     "input": [
      "print mylist[0]"
     ],
     "language": "python",
     "metadata": {},
     "outputs": []
    },
    {
     "cell_type": "markdown",
     "metadata": {},
     "source": [
      "Here the number inside the brackets is called an index, it represents the location of an item in the list. "
     ]
    },
    {
     "cell_type": "markdown",
     "metadata": {},
     "source": [
      "You can also get more than one item at a time by providing a range of indices:"
     ]
    },
    {
     "cell_type": "code",
     "collapsed": false,
     "input": [
      "print mylist[0:3]"
     ],
     "language": "python",
     "metadata": {},
     "outputs": []
    },
    {
     "cell_type": "markdown",
     "metadata": {},
     "source": [
      "Strings can be words, sentences, and anything else you can write as a sequence of characters. They act a lot like lists. "
     ]
    },
    {
     "cell_type": "markdown",
     "metadata": {},
     "source": [
      "You can make a string using quotes"
     ]
    },
    {
     "cell_type": "code",
     "collapsed": false,
     "input": [
      "mystring = \"ACGT\"\n",
      "print mystring"
     ],
     "language": "python",
     "metadata": {},
     "outputs": []
    },
    {
     "cell_type": "markdown",
     "metadata": {},
     "source": [
      "What happens if you remove the quotes? What about using single quotes like 'this'?"
     ]
    },
    {
     "cell_type": "code",
     "collapsed": false,
     "input": [
      "mystring = ACGT\n",
      "print mystring"
     ],
     "language": "python",
     "metadata": {},
     "outputs": []
    },
    {
     "cell_type": "markdown",
     "metadata": {},
     "source": [
      "You can get the length of the string using the len() function:"
     ]
    },
    {
     "cell_type": "code",
     "collapsed": false,
     "input": [
      "mystring = \"ACGT\"\n",
      "print len(mystring)"
     ],
     "language": "python",
     "metadata": {},
     "outputs": []
    },
    {
     "cell_type": "markdown",
     "metadata": {},
     "source": [
      "You can get each letter of the string using the brackets. Try to replace 0 with other numbers and see what you get:"
     ]
    },
    {
     "cell_type": "code",
     "collapsed": false,
     "input": [
      "print mystring[0]"
     ],
     "language": "python",
     "metadata": {},
     "outputs": []
    },
    {
     "cell_type": "markdown",
     "metadata": {},
     "source": [
      "Here is an example with DNA:"
     ]
    },
    {
     "cell_type": "code",
     "collapsed": false,
     "input": [
      "DNA = \"CAACGGGCAATATGTCTCTGTGTG\"\n",
      "print \"Your DNA is\", len(DNA), \"bases long\"\n",
      "\n",
      "print DNA[7]"
     ],
     "language": "python",
     "metadata": {},
     "outputs": []
    }
   ],
   "metadata": {}
  }
 ]
}